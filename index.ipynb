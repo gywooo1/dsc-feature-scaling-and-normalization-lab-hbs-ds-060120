{
 "cells": [
  {
   "cell_type": "markdown",
   "metadata": {},
   "source": [
    "# Feature Scaling and Normalization - Lab"
   ]
  },
  {
   "cell_type": "markdown",
   "metadata": {},
   "source": [
    "## Introduction\n",
    "In this lab, you'll practice your feature scaling and normalization skills!"
   ]
  },
  {
   "cell_type": "markdown",
   "metadata": {},
   "source": [
    "## Objectives\n",
    "You will be able to:\n",
    "* Identify if it is necessary to perform log transformations on a set of features\n",
    "* Perform log transformations on different features of a dataset\n",
    "* Determine if it is necessary to perform normalization/standardization for a specific model or set of data\n",
    "* Compare the different standardization and normalization techniques\n",
    "* Use standardization/normalization on features of a dataset"
   ]
  },
  {
   "cell_type": "markdown",
   "metadata": {},
   "source": [
    "## Back to the Ames Housing data"
   ]
  },
  {
   "cell_type": "markdown",
   "metadata": {},
   "source": [
    "Let's import our Ames Housing data."
   ]
  },
  {
   "cell_type": "code",
   "execution_count": 1,
   "metadata": {},
   "outputs": [],
   "source": [
    "import pandas as pd\n",
    "import matplotlib.pyplot as plt\n",
    "%matplotlib inline\n",
    "plt.style.use('seaborn')\n",
    "\n",
    "ames = pd.read_csv('ames.csv')"
   ]
  },
  {
   "cell_type": "markdown",
   "metadata": {},
   "source": [
    "## Look at the histograms for the continuous variables\n",
    "\n",
    "Since there are so many features it is helpful to filter the columns by datatype and number of unique values. A heuristic you might use to select continous variables might be a combination of features that are not object datatypes and have at least a certain amount of unique values."
   ]
  },
  {
   "cell_type": "code",
   "execution_count": null,
   "metadata": {},
   "outputs": [
    {
     "data": {
      "text/plain": [
       "array([[<matplotlib.axes._subplots.AxesSubplot object at 0x7ff355a00748>,\n",
       "        <matplotlib.axes._subplots.AxesSubplot object at 0x7ff3559944a8>,\n",
       "        <matplotlib.axes._subplots.AxesSubplot object at 0x7ff3551c99e8>,\n",
       "        <matplotlib.axes._subplots.AxesSubplot object at 0x7ff3551adf28>],\n",
       "       [<matplotlib.axes._subplots.AxesSubplot object at 0x7ff355d036d8>,\n",
       "        <matplotlib.axes._subplots.AxesSubplot object at 0x7ff3556730b8>,\n",
       "        <matplotlib.axes._subplots.AxesSubplot object at 0x7ff355470a58>,\n",
       "        <matplotlib.axes._subplots.AxesSubplot object at 0x7ff35550c470>],\n",
       "       [<matplotlib.axes._subplots.AxesSubplot object at 0x7ff35550c4a8>,\n",
       "        <matplotlib.axes._subplots.AxesSubplot object at 0x7ff3551137b8>,\n",
       "        <matplotlib.axes._subplots.AxesSubplot object at 0x7ff355275198>,\n",
       "        <matplotlib.axes._subplots.AxesSubplot object at 0x7ff35579fb38>],\n",
       "       [<matplotlib.axes._subplots.AxesSubplot object at 0x7ff355585518>,\n",
       "        <matplotlib.axes._subplots.AxesSubplot object at 0x7ff3554d9eb8>,\n",
       "        <matplotlib.axes._subplots.AxesSubplot object at 0x7ff355874898>,\n",
       "        <matplotlib.axes._subplots.AxesSubplot object at 0x7ff355cb4278>],\n",
       "       [<matplotlib.axes._subplots.AxesSubplot object at 0x7ff355cafc18>,\n",
       "        <matplotlib.axes._subplots.AxesSubplot object at 0x7ff355c805f8>,\n",
       "        <matplotlib.axes._subplots.AxesSubplot object at 0x7ff355326f98>,\n",
       "        <matplotlib.axes._subplots.AxesSubplot object at 0x7ff35539f978>]],\n",
       "      dtype=object)"
      ]
     },
     "execution_count": 16,
     "metadata": {},
     "output_type": "execute_result"
    }
   ],
   "source": [
    "# Your code here\n",
    "ames_continuous = ames.loc[:, ((ames.dtypes != 'object') & (ames.nunique() >50))]\n",
    "\n",
    "ames_continuous.hist()"
   ]
  },
  {
   "cell_type": "markdown",
   "metadata": {},
   "source": [
    "We can see from our histogram of the contiuous features that there are many examples where there are a ton of zeros. For example, WoodDeckSF (square footage of a wood deck) gives us a positive number indicating the size of the deck and zero if no deck exists. It might have made sense to categorize this variable to \"deck exists or not (binary variable 1/0). Now you have a zero-inflated variable which is cumbersome to work with.\n",
    "\n",
    "Lets drop these zero-inflated variables for now and select the features which don't have this characteristic."
   ]
  },
  {
   "cell_type": "code",
   "execution_count": null,
   "metadata": {},
   "outputs": [],
   "source": [
    "# Select non zero-inflated continuous features as ames_cont\n",
    "ames_cont = None"
   ]
  },
  {
   "cell_type": "markdown",
   "metadata": {},
   "source": [
    "## Perform log transformations for the variables where it makes sense"
   ]
  },
  {
   "cell_type": "code",
   "execution_count": null,
   "metadata": {},
   "outputs": [],
   "source": [
    "# Your code here"
   ]
  },
  {
   "cell_type": "markdown",
   "metadata": {},
   "source": [
    "## Standardize the continuous variables"
   ]
  },
  {
   "cell_type": "markdown",
   "metadata": {},
   "source": [
    "Store your final features in a DataFrame `features_final`: "
   ]
  },
  {
   "cell_type": "code",
   "execution_count": null,
   "metadata": {},
   "outputs": [],
   "source": [
    "# Your code here"
   ]
  },
  {
   "cell_type": "markdown",
   "metadata": {},
   "source": [
    "## Summary\n",
    "Great! You've now got some hands-on practice transforming data using log transforms, feature scaling, and normalization!"
   ]
  }
 ],
 "metadata": {
  "kernelspec": {
   "display_name": "Python 3",
   "language": "python",
   "name": "python3"
  },
  "language_info": {
   "codemirror_mode": {
    "name": "ipython",
    "version": 3
   },
   "file_extension": ".py",
   "mimetype": "text/x-python",
   "name": "python",
   "nbconvert_exporter": "python",
   "pygments_lexer": "ipython3",
   "version": "3.6.9"
  },
  "toc": {
   "base_numbering": 1,
   "nav_menu": {},
   "number_sections": true,
   "sideBar": true,
   "skip_h1_title": false,
   "title_cell": "Table of Contents",
   "title_sidebar": "Contents",
   "toc_cell": false,
   "toc_position": {},
   "toc_section_display": true,
   "toc_window_display": false
  }
 },
 "nbformat": 4,
 "nbformat_minor": 2
}
